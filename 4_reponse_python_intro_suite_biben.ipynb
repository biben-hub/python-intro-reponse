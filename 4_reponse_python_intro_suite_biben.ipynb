{
 "cells": [
  {
   "cell_type": "code",
   "execution_count": 1,
   "metadata": {},
   "outputs": [
    {
     "name": "stdout",
     "output_type": "stream",
     "text": [
      "number1 and number2 are not equal\n"
     ]
    }
   ],
   "source": [
    "'''\n",
    "Given two numbers, check if they are equals (use try except)\n",
    "'''\n",
    "\n",
    "number1 = 20\n",
    "number2 = 30\n",
    "\n",
    "try:\n",
    "    if (int(number1) != int(number2)):\n",
    "        raise ValueError('is not equal')\n",
    "    print('%d et %d is Equal' % (number1, number2))\n",
    "except ValueError:\n",
    "    print('number1 and number2 are not equal')"
   ]
  },
  {
   "cell_type": "code",
   "execution_count": 2,
   "metadata": {},
   "outputs": [],
   "source": [
    "'''\n",
    "find those numbers which are divisible by 7 and multiple of 5, between 1500 and 2700 (both included)\n",
    "'''"
   ]
  },
  {
   "cell_type": "code",
   "execution_count": 2,
   "metadata": {},
   "outputs": [
    {
     "name": "stdout",
     "output_type": "stream",
     "text": [
      "[1505, 1540, 1575, 1610, 1645, 1680, 1715, 1750, 1785, 1820, 1855, 1890, 1925, 1960, 1995, 2030, 2065, 2100, 2135, 2170, 2205, 2240, 2275, 2310, 2345, 2380, 2415, 2450, 2485, 2520, 2555, 2590, 2625, 2660, 2695]\n"
     ]
    }
   ],
   "source": [
    "my_list=[]\n",
    "for n in range(1500, 2700):\n",
    "    if n%7==0 and n%5==0:my_list.append(n)\n",
    "\n",
    "print(my_list)"
   ]
  },
  {
   "cell_type": "code",
   "execution_count": null,
   "metadata": {},
   "outputs": [],
   "source": [
    "'''\n",
    "sum of three given integers. \n",
    "However, if two values are equal sum will be zero\n",
    "'''"
   ]
  },
  {
   "cell_type": "code",
   "execution_count": 3,
   "metadata": {},
   "outputs": [
    {
     "name": "stdout",
     "output_type": "stream",
     "text": [
      "The sum is zero\n"
     ]
    }
   ],
   "source": [
    "my_nb1 = 10\n",
    "my_nb2 = 20\n",
    "my_nb3 = 10\n",
    "\n",
    "my_list = []\n",
    "\n",
    "my_list.extend([my_nb1, my_nb2, my_nb3])\n",
    "\n",
    "if len(set(my_list)) == len(my_list):\n",
    "    my_sum = sum(my_list)\n",
    "    print(f\"The sum is {my_sum}\")\n",
    "else:\n",
    "    print(\"The sum is zero\")"
   ]
  },
  {
   "cell_type": "code",
   "execution_count": null,
   "metadata": {},
   "outputs": [],
   "source": [
    "'''\n",
    "add two objects if both objects are an integer type\n",
    "'''"
   ]
  },
  {
   "cell_type": "code",
   "execution_count": 7,
   "metadata": {},
   "outputs": [
    {
     "name": "stdout",
     "output_type": "stream",
     "text": [
      "Impossible to make sum because one of two objects is not an integer\n"
     ]
    }
   ],
   "source": [
    "my_obj1 = 13\n",
    "my_obj2 = '12'\n",
    "somme = None\n",
    "try:\n",
    "    somme = my_obj1 + my_obj2\n",
    "    print(somme)\n",
    "except:\n",
    "    print(\"Impossible to make sum because one of two objects is not an integer\")"
   ]
  },
  {
   "cell_type": "code",
   "execution_count": null,
   "metadata": {},
   "outputs": [],
   "source": [
    "'''\n",
    "convert seconds to day, hour, minutes and seconds\n",
    "'''"
   ]
  },
  {
   "cell_type": "code",
   "execution_count": 6,
   "metadata": {},
   "outputs": [
    {
     "data": {
      "text/plain": [
       "'4:36:22'"
      ]
     },
     "execution_count": 6,
     "metadata": {},
     "output_type": "execute_result"
    }
   ],
   "source": [
    "import datetime\n",
    "\n",
    "str(datetime.timedelta(seconds=my_secs))"
   ]
  },
  {
   "cell_type": "code",
   "execution_count": null,
   "metadata": {},
   "outputs": [],
   "source": [
    "'''\n",
    "construct the following pattern, using a nested for loop.\n",
    "* \n",
    "* * \n",
    "* * * \n",
    "* * * * \n",
    "* * * * * \n",
    "* * * * \n",
    "* * * \n",
    "* * \n",
    "*\n",
    "'''"
   ]
  },
  {
   "cell_type": "code",
   "execution_count": 88,
   "metadata": {},
   "outputs": [
    {
     "name": "stdout",
     "output_type": "stream",
     "text": [
      "* \r\n",
      "* * \r\n",
      "* * * \r\n",
      "* * * * \r\n",
      "* * * * * \r\n",
      "* * * * \r\n",
      "* * * \r\n",
      "* * \r\n"
     ]
    }
   ],
   "source": [
    "for i in range(0, 4, +1):#range(start, stop, step)\n",
    "    for j in range(i + 1):\n",
    "        print(\"* \",end=\"\")\n",
    "    print(\"\\r\")\n",
    "    \n",
    "\n",
    "for i in range(4, 0, -1):\n",
    "    for j in range(0, i + 1):\n",
    "        print(\"* \", end=\"\")\n",
    "    print(\"\\r\")"
   ]
  },
  {
   "cell_type": "code",
   "execution_count": null,
   "metadata": {},
   "outputs": [],
   "source": [
    "'''\n",
    "return the largest of three numbers. \n",
    "Do this without using the Python max() function\n",
    "'''"
   ]
  },
  {
   "cell_type": "code",
   "execution_count": 91,
   "metadata": {},
   "outputs": [
    {
     "name": "stdout",
     "output_type": "stream",
     "text": [
      "133\n"
     ]
    }
   ],
   "source": [
    "my_nb1 = 13\n",
    "my_nb2 = 133\n",
    "my_nb3 = 1\n",
    "numbers = [my_nb1, my_nb2, my_nb3]\n",
    "maxx = 0\n",
    "for n in numbers:\n",
    "    if n > maxx:\n",
    "        maxx = n\n",
    "print(maxx)"
   ]
  },
  {
   "cell_type": "code",
   "execution_count": null,
   "metadata": {},
   "outputs": [],
   "source": [
    "'''\n",
    "find how many 0s a number has\n",
    "'''\n"
   ]
  },
  {
   "cell_type": "code",
   "execution_count": 98,
   "metadata": {},
   "outputs": [
    {
     "name": "stdout",
     "output_type": "stream",
     "text": [
      "4\n"
     ]
    }
   ],
   "source": [
    "my_nb = 13001200\n",
    "\n",
    "print(str(my_nb).count('0'))"
   ]
  },
  {
   "cell_type": "code",
   "execution_count": null,
   "metadata": {},
   "outputs": [],
   "source": [
    "'''\n",
    "accept a word from the user and reverse it. \n",
    "use input\n",
    "'''"
   ]
  },
  {
   "cell_type": "code",
   "execution_count": null,
   "metadata": {},
   "outputs": [],
   "source": [
    "word = input(\"enter a word : \")\n",
    "\n",
    "word.reverse()"
   ]
  },
  {
   "cell_type": "code",
   "execution_count": null,
   "metadata": {},
   "outputs": [],
   "source": [
    "'''\n",
    "check whether the key \"nom\" already exists in a dictionary.\n",
    "'''\n"
   ]
  },
  {
   "cell_type": "code",
   "execution_count": 19,
   "metadata": {},
   "outputs": [
    {
     "name": "stdout",
     "output_type": "stream",
     "text": [
      "True\n"
     ]
    }
   ],
   "source": [
    "my_dict = {'age': 25, 'taille': 180, 'nom': 'alexi'}\n",
    "\n",
    "if 'nom' in my_dict:\n",
    "    print(True)\n",
    "else:\n",
    "    print(False)"
   ]
  },
  {
   "cell_type": "code",
   "execution_count": 16,
   "metadata": {},
   "outputs": [
    {
     "data": {
      "text/plain": [
       "\"\\n.keys()\\n.values()\\n.items() renvoie les deux keys et values\\n.get( , ) par défaut renvoie none s'il ne trouve pas\\n.update() \\n\""
      ]
     },
     "execution_count": 16,
     "metadata": {},
     "output_type": "execute_result"
    }
   ],
   "source": [
    "#fonction pour dict\n",
    "'''\n",
    ".keys()\n",
    ".values()\n",
    ".items() renvoie les deux keys et values\n",
    ".get( , ) par défaut renvoie none s'il ne trouve pas\n",
    ".update() \n",
    "'''"
   ]
  },
  {
   "cell_type": "code",
   "execution_count": null,
   "metadata": {},
   "outputs": [],
   "source": [
    "'''\n",
    "return value of \"nom\" \n",
    "'''"
   ]
  },
  {
   "cell_type": "code",
   "execution_count": 23,
   "metadata": {},
   "outputs": [
    {
     "data": {
      "text/plain": [
       "'alexi'"
      ]
     },
     "execution_count": 23,
     "metadata": {},
     "output_type": "execute_result"
    }
   ],
   "source": [
    "my_dict = {'age': 25, 'taille': 180, 'nom': 'alexi'}\n",
    "\n",
    "my_dict.get('nom')"
   ]
  },
  {
   "cell_type": "code",
   "execution_count": null,
   "metadata": {},
   "outputs": [],
   "source": [
    "'''\n",
    "make a statement that returns the value of the key \"nom\" if it exists,\n",
    "otherwise None\n",
    "'''"
   ]
  },
  {
   "cell_type": "code",
   "execution_count": 27,
   "metadata": {},
   "outputs": [
    {
     "name": "stdout",
     "output_type": "stream",
     "text": [
      "None\n"
     ]
    }
   ],
   "source": [
    "my_dict = {'age': 25, 'taille': 180}\n",
    "\n",
    "print(my_dict.get('nom'))"
   ]
  },
  {
   "cell_type": "code",
   "execution_count": null,
   "metadata": {},
   "outputs": [],
   "source": [
    "'''\n",
    "change \"nom\" to your name in my_dict\n",
    "'''"
   ]
  },
  {
   "cell_type": "code",
   "execution_count": 28,
   "metadata": {},
   "outputs": [
    {
     "data": {
      "text/plain": [
       "'biben'"
      ]
     },
     "execution_count": 28,
     "metadata": {},
     "output_type": "execute_result"
    }
   ],
   "source": [
    "my_dict = {'age': 25, 'taille': 180, 'nom': 'alexi'}\n",
    "\n",
    "my_dict['nom']='biben'\n",
    "my_dict.get('nom')"
   ]
  },
  {
   "cell_type": "code",
   "execution_count": null,
   "metadata": {},
   "outputs": [],
   "source": [
    "'''\n",
    "print a dictionary that contains a number (between 1 and n) in the form (x, x*x)\n",
    "n = 5\n",
    "output {1: 1, 2: 4, 3: 9, 4: 16, 5: 25}\n",
    "'''\n",
    "\n",
    "n = 9"
   ]
  },
  {
   "cell_type": "code",
   "execution_count": 4,
   "metadata": {},
   "outputs": [
    {
     "name": "stdout",
     "output_type": "stream",
     "text": [
      "{1: 0, 2: 4, 3: 16, 4: 36, 5: 64, 6: 100, 7: 144, 8: 196, 9: 256}\n"
     ]
    }
   ],
   "source": [
    "#remplir le dictionnaire en une ligne\n",
    "n = 9\n",
    "my_dict = {i+1: (i+i)**2 for i in range(n)}\n",
    "print(my_dict)"
   ]
  },
  {
   "cell_type": "code",
   "execution_count": null,
   "metadata": {},
   "outputs": [],
   "source": [
    "'''\n",
    "merge two Python dictionaries\n",
    "'''\n"
   ]
  },
  {
   "cell_type": "code",
   "execution_count": 32,
   "metadata": {},
   "outputs": [
    {
     "name": "stdout",
     "output_type": "stream",
     "text": [
      "{'age': 24, 'taille': 180, 'nom': 'lahoe', 'prenom': 'alexi'}\n"
     ]
    }
   ],
   "source": [
    "my_dict1 = {'age': 24, 'taille': 180}\n",
    "my_dict2 = {'nom': 'lahoe', 'prenom': 'alexi'}\n",
    "\n",
    "\n",
    "merged_dict = my_dict1.copy()\n",
    "merged_dict.update(my_dict2)\n",
    "print(merged_dict)"
   ]
  },
  {
   "cell_type": "code",
   "execution_count": 33,
   "metadata": {},
   "outputs": [
    {
     "name": "stdout",
     "output_type": "stream",
     "text": [
      "{'age': 24, 'taille': 180, 'nom': 'lahoe', 'prenom': 'alexi'}\n"
     ]
    }
   ],
   "source": [
    "my_dict1 = {'age': 24, 'taille': 180}\n",
    "my_dict2 = {'nom': 'lahoe', 'prenom': 'alexi'}\n",
    "\n",
    "merging_dict = {**my_dict1, **my_dict2}\n",
    "print(merging_dict)"
   ]
  },
  {
   "cell_type": "code",
   "execution_count": null,
   "metadata": {},
   "outputs": [],
   "source": [
    "'''\n",
    "sum all the items in a dictionary\n",
    "'''"
   ]
  },
  {
   "cell_type": "code",
   "execution_count": 35,
   "metadata": {},
   "outputs": [
    {
     "name": "stdout",
     "output_type": "stream",
     "text": [
      "6\n"
     ]
    }
   ],
   "source": [
    "my_dict = {'key1': 1, 'key2': 2, 'key3': 3}\n",
    "print(sum(my_dict.values()))"
   ]
  },
  {
   "cell_type": "code",
   "execution_count": null,
   "metadata": {},
   "outputs": [],
   "source": [
    "'''\n",
    "remove a key \"nom\" a dictionary\n",
    "'''"
   ]
  },
  {
   "cell_type": "code",
   "execution_count": 37,
   "metadata": {},
   "outputs": [
    {
     "data": {
      "text/plain": [
       "{'age': 25, 'taille': 180}"
      ]
     },
     "execution_count": 37,
     "metadata": {},
     "output_type": "execute_result"
    }
   ],
   "source": [
    "my_dict = {'age': 25, 'taille': 180, 'nom': 'alexi'}\n",
    "\n",
    "del my_dict['nom']\n",
    "my_dict"
   ]
  },
  {
   "cell_type": "code",
   "execution_count": null,
   "metadata": {},
   "outputs": [],
   "source": [
    "'''\n",
    "map two lists into a dictionary.\n",
    "'''"
   ]
  },
  {
   "cell_type": "code",
   "execution_count": 38,
   "metadata": {},
   "outputs": [
    {
     "data": {
      "text/plain": [
       "ChainMap(['nom', 'prenom', 'age'], ['alexi', 'lahoe', 24])"
      ]
     },
     "execution_count": 38,
     "metadata": {},
     "output_type": "execute_result"
    }
   ],
   "source": [
    "from collections import ChainMap\n",
    "\n",
    "list1 = ['nom', 'prenom', 'age']\n",
    "list2 = ['alexi', 'lahoe', 24]\n",
    "\n",
    "\n",
    "new_dict = ChainMap(list1, list2)\n",
    "new_dict"
   ]
  }
 ],
 "metadata": {
  "kernelspec": {
   "display_name": "Python 3",
   "language": "python",
   "name": "python3"
  }
 },
 "nbformat": 4,
 "nbformat_minor": 4
}
