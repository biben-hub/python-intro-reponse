{
 "cells": [
  {
   "cell_type": "code",
   "execution_count": null,
   "metadata": {},
   "outputs": [],
   "source": [
    "# COMMENTEZ CHAQUE LIGNE DE CE SCRIPT EN EXPLIQUANT CE QU'ELLE FAIT ET POURQUOI\n",
    "'''\n",
    "permet d'importer la bibliothèque de méthodes générant des nombres pseudo-aléatoires\n",
    "\n",
    "déclaration et initialisation d'une variable de type string (x6)\n",
    "\n",
    "déclaration est initialisation d'un tableau\n",
    "\n",
    "déclaration et initialisation d'une variable de type integer\n",
    "\n",
    "\n",
    "déclaration d'une variable qui stock le résultat de la division \n",
    "de la taille de la liste names par le nbre maximum d'éléments par groupe\n",
    "\n",
    "déclaration d'une boucle for qui parcours l'interval du nombre de groupe\n",
    "\n",
    "variable locale qui stock un echantillon parmis les noms dans la liste pour un tirage aléatoire\n",
    "\n",
    "#affiche les groupes et les noms séléctionnés pour chaque groupe\n",
    "\n",
    "#la boucle for ici va supprimer chaque noms qui auront été séléctionnés dans la liste names pour s'assurer que tous les noms de la liste auront bien été utilisés\n",
    "'''"
   ]
  },
  {
   "cell_type": "code",
   "execution_count": null,
   "metadata": {},
   "outputs": [],
   "source": [
    "# EXPLIQUEZ CE QUE FAIT RANDOM.SAMPLE ET LES ALTERNATIVES QUI EXISTENT EN CHERCHANT SUR INTERNET\n",
    "'''\n",
    "random.sample choisit un échantillon dans un ensemble \n",
    "et renvoie une liste de k élément séléctionné de manière aléatoire\n",
    "\n",
    "les alternatives sont :\n",
    "\n",
    "random.shuffle\n",
    "\n",
    "'''"
   ]
  },
  {
   "cell_type": "code",
   "execution_count": null,
   "metadata": {},
   "outputs": [],
   "source": [
    "# EXPLIQUEZ LE %S DU PRINT, QUELS SONT LES AUTRES POSSIBILITES\n",
    "'''\n",
    "%s est formatage des valeurs des variables\n",
    "dans ce cas, il récupère la valeur de i et selected et affiche la valeur en string\n",
    "\n",
    "les alternatives sont les suivantes :\n",
    "\n",
    "print(\"GROUP #{} : {}\".format(i, selected))\n",
    "print(\"GROUP #{i} : {selected}})\n",
    "print(\"GROUP #\",{i} , \" : \",{selected})\n",
    "print(\"GROUP #\", i, \":\", selected)\n",
    "'''"
   ]
  },
  {
   "cell_type": "code",
   "execution_count": null,
   "metadata": {},
   "outputs": [],
   "source": [
    "# EXPLIQUEZ LE BUT DE CE SCRIPT\n",
    "'''\n",
    "créer 3 binômes\n",
    "'''"
   ]
  },
  {
   "cell_type": "code",
   "execution_count": 15,
   "metadata": {
    "scrolled": true
   },
   "outputs": [
    {
     "name": "stdout",
     "output_type": "stream",
     "text": [
      "['name1', 'name2', 'name3', 'name4', 'name5', 'name6'] \n",
      "\n",
      "GROUP #0 : ['name2', 'name4'] \n",
      "\n",
      "GROUP #1 : ['name6', 'name5'] \n",
      "\n",
      "GROUP #2 : ['name3', 'name1'] \n",
      "\n"
     ]
    }
   ],
   "source": [
    "import random\n",
    "\n",
    "name1 = 'name1'\n",
    "name2 = 'name2' \n",
    "name3 = 'name3'\n",
    "name4 = 'name4'\n",
    "name5 = 'name5'\n",
    "name6 = 'name6'\n",
    "\n",
    "\n",
    "names = [name1, name2, name3, name4, name5, name6] \n",
    "print(names, '\\n')\n",
    "nb_groups = 3\n",
    "\n",
    "max_nb_groups = int(len(names) / nb_groups) \n",
    "\n",
    "\n",
    "for i in range(nb_groups):\n",
    "    \n",
    "    selected = random.sample(names, k=max_nb_groups)\n",
    "    \n",
    "    print(\"GROUP #%s : %s\" % (i, selected), '\\n')\n",
    "    \n",
    "    for sel in selected:\n",
    "        names.remove(sel)"
   ]
  },
  {
   "cell_type": "code",
   "execution_count": null,
   "metadata": {},
   "outputs": [],
   "source": [
    "# MODIFIEZ LE SCRIPT POUR SELECTIONNER UN A UN LES MEMBRES DE LA LISTE \"selected\""
   ]
  },
  {
   "cell_type": "code",
   "execution_count": 17,
   "metadata": {},
   "outputs": [
    {
     "name": "stdout",
     "output_type": "stream",
     "text": [
      "['name1', 'name2', 'name3', 'name4', 'name5', 'name6'] \n",
      "\n",
      "GROUP #0 : ['name6'] \n",
      "\n",
      "GROUP #1 : ['name1'] \n",
      "\n",
      "GROUP #2 : ['name3'] \n",
      "\n",
      "GROUP #3 : ['name4'] \n",
      "\n",
      "GROUP #4 : ['name2'] \n",
      "\n",
      "GROUP #5 : ['name5'] \n",
      "\n"
     ]
    }
   ],
   "source": [
    "import random\n",
    "\n",
    "name1 = 'name1'\n",
    "name2 = 'name2' \n",
    "name3 = 'name3'\n",
    "name4 = 'name4'\n",
    "name5 = 'name5'\n",
    "name6 = 'name6'\n",
    "\n",
    "\n",
    "names = [name1, name2, name3, name4, name5, name6] \n",
    "print(names, '\\n')\n",
    "nb_groups = 6\n",
    "\n",
    "max_nb_groups = int(len(names) / nb_groups) \n",
    "\n",
    "\n",
    "for i in range(nb_groups):\n",
    "    \n",
    "    selected = random.sample(names, k=max_nb_groups)\n",
    "    \n",
    "    print(\"GROUP #%s : %s\" % (i, selected), '\\n')\n",
    "    \n",
    "    for sel in selected:\n",
    "        names.remove(sel)"
   ]
  },
  {
   "cell_type": "code",
   "execution_count": null,
   "metadata": {},
   "outputs": [],
   "source": [
    "# MODIFIEZ LE SCRIPT PRECEDANT POUR OBTENIR LE MEME FONCTIONNEMENT SANS AVOIR A DETERMINER LE NOMBRE DE GROUPES\n",
    "# INDICE: TOUT SE PASSE SUR LA LISTE NAMES\n",
    "# INDICE: PENSER A WHILE"
   ]
  },
  {
   "cell_type": "code",
   "execution_count": 53,
   "metadata": {},
   "outputs": [
    {
     "name": "stdout",
     "output_type": "stream",
     "text": [
      "['name2', 'name6']\n",
      "['name6', 'name1']\n",
      "['name2', 'name5']\n"
     ]
    }
   ],
   "source": [
    "import random\n",
    "\n",
    "name1 = 'name1'\n",
    "name2 = 'name2' \n",
    "name3 = 'name3'\n",
    "name4 = 'name4'\n",
    "name5 = 'name5'\n",
    "name6 = 'name6'\n",
    "\n",
    "\n",
    "names = [name1, name2, name3, name4, name5, name6] \n",
    "x = 3 #compteur\n",
    "\n",
    "while (x < len(names)):\n",
    "    selected = random.sample(names, k = 2)\n",
    "    x = x + 1\n",
    "    print(selected)"
   ]
  }
 ],
 "metadata": {
  "kernelspec": {
   "display_name": "Python 3",
   "language": "python",
   "name": "python3"
  },
  "language_info": {
   "codemirror_mode": {
    "name": "ipython",
    "version": 3
   },
   "file_extension": ".py",
   "mimetype": "text/x-python",
   "name": "python",
   "nbconvert_exporter": "python",
   "pygments_lexer": "ipython3",
   "version": "3.8.5"
  }
 },
 "nbformat": 4,
 "nbformat_minor": 4
}
