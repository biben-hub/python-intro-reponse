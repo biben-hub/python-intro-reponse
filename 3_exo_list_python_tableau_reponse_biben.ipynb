{
 "cells": [
  {
   "cell_type": "code",
   "execution_count": null,
   "metadata": {},
   "outputs": [],
   "source": [
    "'''\n",
    "my_list = ['jordan','mohamed','bernard','mohamed','jordan','farouk','farouk','maria','marwa','jordan','mohamed']\n",
    "\n",
    "\n",
    "1) Enlever les doublons\n",
    "2) Enlever les occurences des éléments en doublons\n",
    "'''"
   ]
  },
  {
   "cell_type": "code",
   "execution_count": 11,
   "metadata": {
    "scrolled": true
   },
   "outputs": [
    {
     "name": "stdout",
     "output_type": "stream",
     "text": [
      "['maria', 'mohamed', 'bernard', 'jordan', 'farouk', 'marwa']\n"
     ]
    }
   ],
   "source": [
    "my_list = ['jordan','mohamed','bernard','mohamed','jordan','farouk','farouk','maria','marwa','jordan','mohamed']\n",
    "a_set = set(my_list)\n",
    "new_list= list(a_set)\n",
    "print(new_list)"
   ]
  }
 ],
 "metadata": {
  "kernelspec": {
   "display_name": "Python 3",
   "language": "python",
   "name": "python3"
  },
  "language_info": {
   "codemirror_mode": {
    "name": "ipython",
    "version": 3
   },
   "file_extension": ".py",
   "mimetype": "text/x-python",
   "name": "python",
   "nbconvert_exporter": "python",
   "pygments_lexer": "ipython3",
   "version": "3.8.5"
  }
 },
 "nbformat": 4,
 "nbformat_minor": 4
}
